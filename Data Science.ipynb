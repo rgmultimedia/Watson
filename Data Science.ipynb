{
    "cells": [
        {
            "cell_type": "code",
            "execution_count": 1,
            "metadata": {},
            "outputs": [
                {
                    "name": "stdout",
                    "output_type": "stream",
                    "text": "40.0\n"
                }
            ],
            "source": "print(50*4/5)"
        },
        {
            "cell_type": "code",
            "execution_count": 4,
            "metadata": {},
            "outputs": [
                {
                    "name": "stdout",
                    "output_type": "stream",
                    "text": "672\n"
                }
            ],
            "source": "print(4 * 8 * 21)"
        },
        {
            "cell_type": "code",
            "execution_count": 3,
            "metadata": {},
            "outputs": [
                {
                    "name": "stdout",
                    "output_type": "stream",
                    "text": "96.0\n"
                }
            ],
            "source": "print(4 * 8 * 21 / 7)"
        },
        {
            "cell_type": "markdown",
            "metadata": {},
            "source": "To render your answer in meters and then convert it to centimeters later, you can first perform the calculation in meters and then multiply the result by 100 to convert it to centimeters."
        },
        {
            "cell_type": "code",
            "execution_count": 2,
            "metadata": {},
            "outputs": [
                {
                    "name": "stdout",
                    "output_type": "stream",
                    "text": "Result in meters: 96.0 m\nResult in centimeters: 9600.0 cm\n"
                }
            ],
            "source": "# Perform the calculation in meters\nresult_in_meters = 4 * 8 * 21 / 7\n\n# Convert the result to centimeters\nresult_in_centimeters = result_in_meters * 100\n\n# Print the result\nprint(\"Result in meters:\", result_in_meters, \"m\")\nprint(\"Result in centimeters:\", result_in_centimeters, \"cm\")"
        }
    ],
    "metadata": {
        "kernelspec": {
            "display_name": "Python 3.10",
            "language": "python",
            "name": "python3"
        },
        "language_info": {
            "codemirror_mode": {
                "name": "ipython",
                "version": 3
            },
            "file_extension": ".py",
            "mimetype": "text/x-python",
            "name": "python",
            "nbconvert_exporter": "python",
            "pygments_lexer": "ipython3",
            "version": "3.10.14"
        }
    },
    "nbformat": 4,
    "nbformat_minor": 1
}